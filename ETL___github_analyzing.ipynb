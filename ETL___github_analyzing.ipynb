{
  "nbformat": 4,
  "nbformat_minor": 0,
  "metadata": {
    "colab": {
      "provenance": []
    },
    "kernelspec": {
      "name": "python3",
      "display_name": "Python 3"
    },
    "language_info": {
      "name": "python"
    }
  },
  "cells": [
    {
      "cell_type": "markdown",
      "source": [
        "## WHAT IS ETL?\n",
        "\n",
        "ETL (Extract, Transform, Load) is a data integration process crucial for collecting, cleaning, and storing information. It extracts raw data, transforms it into a structured and usable format, and loads it into a destination, facilitating effective analysis. ETL ensures data quality, accessibility, and adaptability for business insights in various industries.\n",
        "\n",
        "\n",
        "\n",
        "\n"
      ],
      "metadata": {
        "id": "nDbgufSzVOMI"
      }
    },
    {
      "cell_type": "markdown",
      "source": [
        "# Data Extraction:\n",
        "Utilizing the GitHub API as a Source: During the extraction phase, we harness the GitHub API to retrieve data. APIs offer a structured means of accessing information, and in this instance, we employ it to gather details about repositories owned by a specified user."
      ],
      "metadata": {
        "id": "mxhcn5QvTWPk"
      }
    },
    {
      "cell_type": "code",
      "execution_count": 1,
      "metadata": {
        "id": "uUAIh60IM_5J"
      },
      "outputs": [],
      "source": [
        "# extracting the DATA\n",
        "import requests\n",
        "\n",
        "def extract_data(username):\n",
        "    url = f'https://api.github.com/users/{username}/repos'\n",
        "    response = requests.get(url)\n",
        "    response.raise_for_status()\n",
        "    return response.json()\n"
      ]
    },
    {
      "cell_type": "markdown",
      "source": [
        "# Data Transformation:\n",
        "Strategic Data Selection: In the transformation phase, we implement the practice of selecting pertinent data. By specifically choosing attributes such as repository name, description, and URL, we mold the data to align with the objectives of the project. This corresponds with the fundamental concept of converting raw data into a more organized and valuable format."
      ],
      "metadata": {
        "id": "9kC99GqzT9og"
      }
    },
    {
      "cell_type": "code",
      "source": [
        "# TRANSFORMING THE DATA\n",
        "def transform_data(raw_data):\n",
        "    transformed_data = [{'name': repo['name'], 'description': repo['description'], 'url': repo['html_url']} for repo in raw_data]\n",
        "    return transformed_data\n"
      ],
      "metadata": {
        "id": "KOkjb3iINJMK"
      },
      "execution_count": 2,
      "outputs": []
    },
    {
      "cell_type": "markdown",
      "source": [
        "# Data Loading:\n",
        "Employing a Database as the Target: For the loading phase, we opt for an SQLite database as the target storage. This decision is rooted in the principle of choosing suitable storage solutions that align with the project's specific requirements. SQLite, known for its lightweight nature, proves to be fitting for this modest-scale project."
      ],
      "metadata": {
        "id": "tK7Dl8E4UB7q"
      }
    },
    {
      "cell_type": "code",
      "source": [
        "# LOADING THE DATA\n",
        "import sqlite3\n",
        "\n",
        "def load_data(data, db_path='github_repos.db'):\n",
        "    connection = sqlite3.connect(db_path)\n",
        "    cursor = connection.cursor()\n",
        "\n",
        "    cursor.execute('''\n",
        "        CREATE TABLE IF NOT EXISTS repositories (\n",
        "            id INTEGER PRIMARY KEY,\n",
        "            name TEXT,\n",
        "            description TEXT,\n",
        "            url TEXT\n",
        "        )\n",
        "    ''')\n",
        "\n",
        "\n",
        "    cursor.executemany('INSERT INTO repositories (name, description, url) VALUES (?, ?, ?)', [(repo['name'], repo['description'], repo['url']) for repo in data])\n",
        "\n",
        "\n",
        "    connection.commit()\n",
        "    connection.close()\n"
      ],
      "metadata": {
        "id": "xpD5EUngNQYB"
      },
      "execution_count": 3,
      "outputs": []
    },
    {
      "cell_type": "markdown",
      "source": [
        "now, lets try to run the ETL for github"
      ],
      "metadata": {
        "id": "Cn4SyVzHUGgx"
      }
    },
    {
      "cell_type": "code",
      "source": [
        "# Set your GitHub username\n",
        "github_username = 'matter-labs'\n",
        "\n",
        "# Extract\n",
        "raw_data = extract_data(github_username)\n",
        "\n",
        "# Transform\n",
        "transformed_data = transform_data(raw_data)\n",
        "\n",
        "# Load\n",
        "load_data(transformed_data)\n",
        "\n",
        "print(\"ETL process completed successfully.\")\n"
      ],
      "metadata": {
        "colab": {
          "base_uri": "https://localhost:8080/"
        },
        "id": "oPA7zSjhNVY6",
        "outputId": "bb17a6a9-d225-48a2-b20b-0124802926c3"
      },
      "execution_count": 5,
      "outputs": [
        {
          "output_type": "stream",
          "name": "stdout",
          "text": [
            "ETL process completed successfully.\n"
          ]
        }
      ]
    },
    {
      "cell_type": "markdown",
      "source": [
        "lets check if the program is woking perfectly or not"
      ],
      "metadata": {
        "id": "MQ920Mq0UNNl"
      }
    },
    {
      "cell_type": "code",
      "source": [
        "# Install sql magic extension\n",
        "!pip install -q ipython-sql\n",
        "\n",
        "# Load sql extension\n",
        "%load_ext sql\n",
        "\n",
        "# Connect to the SQLite database\n",
        "%sql sqlite:///github_repos.db\n",
        "\n",
        "# Query the database\n",
        "%sql SELECT * FROM repositories;\n",
        "\n"
      ],
      "metadata": {
        "colab": {
          "base_uri": "https://localhost:8080/",
          "height": 815
        },
        "id": "l3-_1UzeSFdh",
        "outputId": "2b2b2b1d-4464-4a1c-d642-10e60bfaa9a0"
      },
      "execution_count": 6,
      "outputs": [
        {
          "output_type": "stream",
          "name": "stdout",
          "text": [
            "\u001b[?25l     \u001b[90m━━━━━━━━━━━━━━━━━━━━━━━━━━━━━━━━━━━━━━━━\u001b[0m \u001b[32m0.0/1.6 MB\u001b[0m \u001b[31m?\u001b[0m eta \u001b[36m-:--:--\u001b[0m\r\u001b[2K     \u001b[91m━━━━━\u001b[0m\u001b[90m╺\u001b[0m\u001b[90m━━━━━━━━━━━━━━━━━━━━━━━━━━━━━━━━━━\u001b[0m \u001b[32m0.2/1.6 MB\u001b[0m \u001b[31m5.9 MB/s\u001b[0m eta \u001b[36m0:00:01\u001b[0m\r\u001b[2K     \u001b[90m━━━━━━━━━━━━━━━━━━━━━━━━━━━━━━━━━━━━━━━━\u001b[0m \u001b[32m1.6/1.6 MB\u001b[0m \u001b[31m22.9 MB/s\u001b[0m eta \u001b[36m0:00:00\u001b[0m\n",
            "\u001b[?25h * sqlite:///github_repos.db\n",
            "Done.\n"
          ]
        },
        {
          "output_type": "execute_result",
          "data": {
            "text/plain": [
              "[(1, 'hotel-booking-analysis', None, 'https://github.com/abhi14062000/hotel-booking-analysis'),\n",
              " (2, 'machine-learning---classification', None, 'https://github.com/abhi14062000/machine-learning---classification'),\n",
              " (3, 'machine-learning---regression', None, 'https://github.com/abhi14062000/machine-learning---regression'),\n",
              " (4, 'NLP_Txt-to-SPeech', None, 'https://github.com/abhi14062000/NLP_Txt-to-SPeech'),\n",
              " (5, 'unsupervised-machine-learning', None, 'https://github.com/abhi14062000/unsupervised-machine-learning'),\n",
              " (6, '-test-git-poap-integration-2', None, 'https://github.com/matter-labs/-test-git-poap-integration-2'),\n",
              " (7, '.github', 'zkSync Frontend Team workflow configuration', 'https://github.com/matter-labs/.github'),\n",
              " (8, 'aa-signature-checker', None, 'https://github.com/matter-labs/aa-signature-checker'),\n",
              " (9, 'action-hosting-deploy', 'Automatically deploy shareable previews for your Firebase Hosting sites', 'https://github.com/matter-labs/action-hosting-deploy'),\n",
              " (10, 'ansible-en-role', 'Ansible role for zkSync Era External Node', 'https://github.com/matter-labs/ansible-en-role'),\n",
              " (11, 'awesome-zero-knowledge-proofs', 'A curated list of awesome things related to learning Zero-Knowledge Proofs (ZKP).', 'https://github.com/matter-labs/awesome-zero-knowledge-proofs'),\n",
              " (12, 'bellman', \"Bellman zkSNARK library for community with Ethereum's BN256 support\", 'https://github.com/matter-labs/bellman'),\n",
              " (13, 'Best-README-Template', 'An awesome README template to jumpstart your projects! ', 'https://github.com/matter-labs/Best-README-Template'),\n",
              " (14, 'block-explorer', 'zkSync Era Block Explorer', 'https://github.com/matter-labs/block-explorer'),\n",
              " (15, 'blockscout', 'Blockchain explorer for Ethereum based network and a tool for inspecting and analyzing EVM based blockchains. ', 'https://github.com/matter-labs/blockscout'),\n",
              " (16, 'bn254', None, 'https://github.com/matter-labs/bn254'),\n",
              " (17, 'cli-empty-template', 'Empty template project for zkSync CLI', 'https://github.com/matter-labs/cli-empty-template'),\n",
              " (18, 'cloudflare-access-grafana', 'Small proxy for automatically log in users from Cloudflare Access into Grafana', 'https://github.com/matter-labs/cloudflare-access-grafana'),\n",
              " (19, 'compiler-explorer', 'Run compilers interactively from your web browser and interact with the assembly', 'https://github.com/matter-labs/compiler-explorer'),\n",
              " (20, 'compiler-explorer-infra', 'Infrastructure to set up the public Compiler Explorer instances and compilers', 'https://github.com/matter-labs/compiler-explorer-infra'),\n",
              " (21, 'compiler-infra', 'Docker images with build tools for compiler repos', 'https://github.com/matter-labs/compiler-infra'),\n",
              " (22, 'cross-chain-tutorial', None, 'https://github.com/matter-labs/cross-chain-tutorial'),\n",
              " (23, 'curve-zinc', 'The Curve Stableswap smart contract implementation in Zinc v0.2.2.', 'https://github.com/matter-labs/curve-zinc'),\n",
              " (24, 'custom-aa-tutorial', 'A full example for the tutorial on custom AA', 'https://github.com/matter-labs/custom-aa-tutorial'),\n",
              " (25, 'custom-paymaster-tutorial', 'Full example for the custom paymaster tutorial in the documentation', 'https://github.com/matter-labs/custom-paymaster-tutorial'),\n",
              " (26, 'daily-spendlimit-tutorial', 'Code of the zkSync account abstraction tutorial for an account with a daily spend limit', 'https://github.com/matter-labs/daily-spendlimit-tutorial'),\n",
              " (27, 'dapp-portal', 'zkSync Bridge and Wallet', 'https://github.com/matter-labs/dapp-portal'),\n",
              " (28, 'data-restore', None, 'https://github.com/matter-labs/data-restore'),\n",
              " (29, 'demo-circuit', None, 'https://github.com/matter-labs/demo-circuit'),\n",
              " (30, 'discord-ban-appeal', 'Matter Labs fork of discord-ban-appeal', 'https://github.com/matter-labs/discord-ban-appeal'),\n",
              " (31, 'discourse', 'A platform for community discussion. Free, open, simple.', 'https://github.com/matter-labs/discourse'),\n",
              " (32, 'docker-kubectl', 'Docker image with Kubernetes deployment tools (kubectl, helmfile, helm and plugins)', 'https://github.com/matter-labs/docker-kubectl'),\n",
              " (33, 'eip1962', 'EIP1962 implementation effort', 'https://github.com/matter-labs/eip1962'),\n",
              " (34, 'eip1962_specs', 'Specification documents for EIP1962', 'https://github.com/matter-labs/eip1962_specs'),\n",
              " (35, 'era-bellman-cuda', 'A library implementing GPU-accelerated cryptographic functionality for the zkSync prover', 'https://github.com/matter-labs/era-bellman-cuda')]"
            ],
            "text/html": [
              "<table>\n",
              "    <thead>\n",
              "        <tr>\n",
              "            <th>id</th>\n",
              "            <th>name</th>\n",
              "            <th>description</th>\n",
              "            <th>url</th>\n",
              "        </tr>\n",
              "    </thead>\n",
              "    <tbody>\n",
              "        <tr>\n",
              "            <td>1</td>\n",
              "            <td>hotel-booking-analysis</td>\n",
              "            <td>None</td>\n",
              "            <td>https://github.com/abhi14062000/hotel-booking-analysis</td>\n",
              "        </tr>\n",
              "        <tr>\n",
              "            <td>2</td>\n",
              "            <td>machine-learning---classification</td>\n",
              "            <td>None</td>\n",
              "            <td>https://github.com/abhi14062000/machine-learning---classification</td>\n",
              "        </tr>\n",
              "        <tr>\n",
              "            <td>3</td>\n",
              "            <td>machine-learning---regression</td>\n",
              "            <td>None</td>\n",
              "            <td>https://github.com/abhi14062000/machine-learning---regression</td>\n",
              "        </tr>\n",
              "        <tr>\n",
              "            <td>4</td>\n",
              "            <td>NLP_Txt-to-SPeech</td>\n",
              "            <td>None</td>\n",
              "            <td>https://github.com/abhi14062000/NLP_Txt-to-SPeech</td>\n",
              "        </tr>\n",
              "        <tr>\n",
              "            <td>5</td>\n",
              "            <td>unsupervised-machine-learning</td>\n",
              "            <td>None</td>\n",
              "            <td>https://github.com/abhi14062000/unsupervised-machine-learning</td>\n",
              "        </tr>\n",
              "        <tr>\n",
              "            <td>6</td>\n",
              "            <td>-test-git-poap-integration-2</td>\n",
              "            <td>None</td>\n",
              "            <td>https://github.com/matter-labs/-test-git-poap-integration-2</td>\n",
              "        </tr>\n",
              "        <tr>\n",
              "            <td>7</td>\n",
              "            <td>.github</td>\n",
              "            <td>zkSync Frontend Team workflow configuration</td>\n",
              "            <td>https://github.com/matter-labs/.github</td>\n",
              "        </tr>\n",
              "        <tr>\n",
              "            <td>8</td>\n",
              "            <td>aa-signature-checker</td>\n",
              "            <td>None</td>\n",
              "            <td>https://github.com/matter-labs/aa-signature-checker</td>\n",
              "        </tr>\n",
              "        <tr>\n",
              "            <td>9</td>\n",
              "            <td>action-hosting-deploy</td>\n",
              "            <td>Automatically deploy shareable previews for your Firebase Hosting sites</td>\n",
              "            <td>https://github.com/matter-labs/action-hosting-deploy</td>\n",
              "        </tr>\n",
              "        <tr>\n",
              "            <td>10</td>\n",
              "            <td>ansible-en-role</td>\n",
              "            <td>Ansible role for zkSync Era External Node</td>\n",
              "            <td>https://github.com/matter-labs/ansible-en-role</td>\n",
              "        </tr>\n",
              "        <tr>\n",
              "            <td>11</td>\n",
              "            <td>awesome-zero-knowledge-proofs</td>\n",
              "            <td>A curated list of awesome things related to learning Zero-Knowledge Proofs (ZKP).</td>\n",
              "            <td>https://github.com/matter-labs/awesome-zero-knowledge-proofs</td>\n",
              "        </tr>\n",
              "        <tr>\n",
              "            <td>12</td>\n",
              "            <td>bellman</td>\n",
              "            <td>Bellman zkSNARK library for community with Ethereum&#x27;s BN256 support</td>\n",
              "            <td>https://github.com/matter-labs/bellman</td>\n",
              "        </tr>\n",
              "        <tr>\n",
              "            <td>13</td>\n",
              "            <td>Best-README-Template</td>\n",
              "            <td>An awesome README template to jumpstart your projects! </td>\n",
              "            <td>https://github.com/matter-labs/Best-README-Template</td>\n",
              "        </tr>\n",
              "        <tr>\n",
              "            <td>14</td>\n",
              "            <td>block-explorer</td>\n",
              "            <td>zkSync Era Block Explorer</td>\n",
              "            <td>https://github.com/matter-labs/block-explorer</td>\n",
              "        </tr>\n",
              "        <tr>\n",
              "            <td>15</td>\n",
              "            <td>blockscout</td>\n",
              "            <td>Blockchain explorer for Ethereum based network and a tool for inspecting and analyzing EVM based blockchains. </td>\n",
              "            <td>https://github.com/matter-labs/blockscout</td>\n",
              "        </tr>\n",
              "        <tr>\n",
              "            <td>16</td>\n",
              "            <td>bn254</td>\n",
              "            <td>None</td>\n",
              "            <td>https://github.com/matter-labs/bn254</td>\n",
              "        </tr>\n",
              "        <tr>\n",
              "            <td>17</td>\n",
              "            <td>cli-empty-template</td>\n",
              "            <td>Empty template project for zkSync CLI</td>\n",
              "            <td>https://github.com/matter-labs/cli-empty-template</td>\n",
              "        </tr>\n",
              "        <tr>\n",
              "            <td>18</td>\n",
              "            <td>cloudflare-access-grafana</td>\n",
              "            <td>Small proxy for automatically log in users from Cloudflare Access into Grafana</td>\n",
              "            <td>https://github.com/matter-labs/cloudflare-access-grafana</td>\n",
              "        </tr>\n",
              "        <tr>\n",
              "            <td>19</td>\n",
              "            <td>compiler-explorer</td>\n",
              "            <td>Run compilers interactively from your web browser and interact with the assembly</td>\n",
              "            <td>https://github.com/matter-labs/compiler-explorer</td>\n",
              "        </tr>\n",
              "        <tr>\n",
              "            <td>20</td>\n",
              "            <td>compiler-explorer-infra</td>\n",
              "            <td>Infrastructure to set up the public Compiler Explorer instances and compilers</td>\n",
              "            <td>https://github.com/matter-labs/compiler-explorer-infra</td>\n",
              "        </tr>\n",
              "        <tr>\n",
              "            <td>21</td>\n",
              "            <td>compiler-infra</td>\n",
              "            <td>Docker images with build tools for compiler repos</td>\n",
              "            <td>https://github.com/matter-labs/compiler-infra</td>\n",
              "        </tr>\n",
              "        <tr>\n",
              "            <td>22</td>\n",
              "            <td>cross-chain-tutorial</td>\n",
              "            <td>None</td>\n",
              "            <td>https://github.com/matter-labs/cross-chain-tutorial</td>\n",
              "        </tr>\n",
              "        <tr>\n",
              "            <td>23</td>\n",
              "            <td>curve-zinc</td>\n",
              "            <td>The Curve Stableswap smart contract implementation in Zinc v0.2.2.</td>\n",
              "            <td>https://github.com/matter-labs/curve-zinc</td>\n",
              "        </tr>\n",
              "        <tr>\n",
              "            <td>24</td>\n",
              "            <td>custom-aa-tutorial</td>\n",
              "            <td>A full example for the tutorial on custom AA</td>\n",
              "            <td>https://github.com/matter-labs/custom-aa-tutorial</td>\n",
              "        </tr>\n",
              "        <tr>\n",
              "            <td>25</td>\n",
              "            <td>custom-paymaster-tutorial</td>\n",
              "            <td>Full example for the custom paymaster tutorial in the documentation</td>\n",
              "            <td>https://github.com/matter-labs/custom-paymaster-tutorial</td>\n",
              "        </tr>\n",
              "        <tr>\n",
              "            <td>26</td>\n",
              "            <td>daily-spendlimit-tutorial</td>\n",
              "            <td>Code of the zkSync account abstraction tutorial for an account with a daily spend limit</td>\n",
              "            <td>https://github.com/matter-labs/daily-spendlimit-tutorial</td>\n",
              "        </tr>\n",
              "        <tr>\n",
              "            <td>27</td>\n",
              "            <td>dapp-portal</td>\n",
              "            <td>zkSync Bridge and Wallet</td>\n",
              "            <td>https://github.com/matter-labs/dapp-portal</td>\n",
              "        </tr>\n",
              "        <tr>\n",
              "            <td>28</td>\n",
              "            <td>data-restore</td>\n",
              "            <td>None</td>\n",
              "            <td>https://github.com/matter-labs/data-restore</td>\n",
              "        </tr>\n",
              "        <tr>\n",
              "            <td>29</td>\n",
              "            <td>demo-circuit</td>\n",
              "            <td>None</td>\n",
              "            <td>https://github.com/matter-labs/demo-circuit</td>\n",
              "        </tr>\n",
              "        <tr>\n",
              "            <td>30</td>\n",
              "            <td>discord-ban-appeal</td>\n",
              "            <td>Matter Labs fork of discord-ban-appeal</td>\n",
              "            <td>https://github.com/matter-labs/discord-ban-appeal</td>\n",
              "        </tr>\n",
              "        <tr>\n",
              "            <td>31</td>\n",
              "            <td>discourse</td>\n",
              "            <td>A platform for community discussion. Free, open, simple.</td>\n",
              "            <td>https://github.com/matter-labs/discourse</td>\n",
              "        </tr>\n",
              "        <tr>\n",
              "            <td>32</td>\n",
              "            <td>docker-kubectl</td>\n",
              "            <td>Docker image with Kubernetes deployment tools (kubectl, helmfile, helm and plugins)</td>\n",
              "            <td>https://github.com/matter-labs/docker-kubectl</td>\n",
              "        </tr>\n",
              "        <tr>\n",
              "            <td>33</td>\n",
              "            <td>eip1962</td>\n",
              "            <td>EIP1962 implementation effort</td>\n",
              "            <td>https://github.com/matter-labs/eip1962</td>\n",
              "        </tr>\n",
              "        <tr>\n",
              "            <td>34</td>\n",
              "            <td>eip1962_specs</td>\n",
              "            <td>Specification documents for EIP1962</td>\n",
              "            <td>https://github.com/matter-labs/eip1962_specs</td>\n",
              "        </tr>\n",
              "        <tr>\n",
              "            <td>35</td>\n",
              "            <td>era-bellman-cuda</td>\n",
              "            <td>A library implementing GPU-accelerated cryptographic functionality for the zkSync prover</td>\n",
              "            <td>https://github.com/matter-labs/era-bellman-cuda</td>\n",
              "        </tr>\n",
              "    </tbody>\n",
              "</table>"
            ]
          },
          "metadata": {},
          "execution_count": 6
        }
      ]
    },
    {
      "cell_type": "markdown",
      "source": [
        "# Conslusion:\n",
        "\n",
        "The GitHub API-based ETL project establishes a foundation for a scalable, maintainable, and adaptable system.\n",
        "\n",
        "Success in real-world scenarios hinges on critical considerations such as error handling, security, and user experience.\n",
        "\n",
        "Serving as a starting point, this project can be expanded and improved to address evolving requirements in data extraction, transformation, and loading."
      ],
      "metadata": {
        "id": "yOgzmwdyUUU3"
      }
    }
  ]
}